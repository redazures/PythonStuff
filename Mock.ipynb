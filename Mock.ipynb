{
 "cells": [
  {
   "cell_type": "code",
   "execution_count": 1,
   "metadata": {},
   "outputs": [],
   "source": [
    "import pandas as pd\n",
    "import numpy as np\n",
    "import matplotlib.pyplot as plt\n",
    "import statsmodels.api as sm\n",
    "from scipy import stats\n",
    "from statsmodels.sandbox.regression.predstd import wls_prediction_std\n",
    "%matplotlib inline"
   ]
  },
  {
   "cell_type": "code",
   "execution_count": 2,
   "metadata": {},
   "outputs": [
    {
     "data": {
      "text/html": [
       "<div>\n",
       "<style scoped>\n",
       "    .dataframe tbody tr th:only-of-type {\n",
       "        vertical-align: middle;\n",
       "    }\n",
       "\n",
       "    .dataframe tbody tr th {\n",
       "        vertical-align: top;\n",
       "    }\n",
       "\n",
       "    .dataframe thead th {\n",
       "        text-align: right;\n",
       "    }\n",
       "</style>\n",
       "<table border=\"1\" class=\"dataframe\">\n",
       "  <thead>\n",
       "    <tr style=\"text-align: right;\">\n",
       "      <th></th>\n",
       "      <th>year/country</th>\n",
       "      <th>ISO Code</th>\n",
       "      <th>Year</th>\n",
       "      <th>Urban_Population</th>\n",
       "      <th>Tax%</th>\n",
       "    </tr>\n",
       "  </thead>\n",
       "  <tbody>\n",
       "    <tr>\n",
       "      <th>0</th>\n",
       "      <td>Afghanistan2003</td>\n",
       "      <td>AFG</td>\n",
       "      <td>2003</td>\n",
       "      <td>22.353</td>\n",
       "      <td>0.165953</td>\n",
       "    </tr>\n",
       "    <tr>\n",
       "      <th>1</th>\n",
       "      <td>Afghanistan2004</td>\n",
       "      <td>AFG</td>\n",
       "      <td>2004</td>\n",
       "      <td>22.500</td>\n",
       "      <td>0.411647</td>\n",
       "    </tr>\n",
       "    <tr>\n",
       "      <th>2</th>\n",
       "      <td>Afghanistan2005</td>\n",
       "      <td>AFG</td>\n",
       "      <td>2005</td>\n",
       "      <td>22.703</td>\n",
       "      <td>0.320864</td>\n",
       "    </tr>\n",
       "    <tr>\n",
       "      <th>3</th>\n",
       "      <td>Afghanistan2006</td>\n",
       "      <td>AFG</td>\n",
       "      <td>2006</td>\n",
       "      <td>22.907</td>\n",
       "      <td>1.261181</td>\n",
       "    </tr>\n",
       "    <tr>\n",
       "      <th>4</th>\n",
       "      <td>Afghanistan2007</td>\n",
       "      <td>AFG</td>\n",
       "      <td>2007</td>\n",
       "      <td>23.113</td>\n",
       "      <td>1.323461</td>\n",
       "    </tr>\n",
       "    <tr>\n",
       "      <th>5</th>\n",
       "      <td>Afghanistan2008</td>\n",
       "      <td>AFG</td>\n",
       "      <td>2008</td>\n",
       "      <td>23.320</td>\n",
       "      <td>1.664719</td>\n",
       "    </tr>\n",
       "    <tr>\n",
       "      <th>6</th>\n",
       "      <td>Afghanistan2009</td>\n",
       "      <td>AFG</td>\n",
       "      <td>2009</td>\n",
       "      <td>23.528</td>\n",
       "      <td>2.608631</td>\n",
       "    </tr>\n",
       "    <tr>\n",
       "      <th>7</th>\n",
       "      <td>Afghanistan2010</td>\n",
       "      <td>AFG</td>\n",
       "      <td>2010</td>\n",
       "      <td>23.737</td>\n",
       "      <td>2.563413</td>\n",
       "    </tr>\n",
       "    <tr>\n",
       "      <th>8</th>\n",
       "      <td>Afghanistan2011</td>\n",
       "      <td>AFG</td>\n",
       "      <td>2011</td>\n",
       "      <td>23.948</td>\n",
       "      <td>2.573097</td>\n",
       "    </tr>\n",
       "    <tr>\n",
       "      <th>9</th>\n",
       "      <td>Afghanistan2012</td>\n",
       "      <td>AFG</td>\n",
       "      <td>2012</td>\n",
       "      <td>24.160</td>\n",
       "      <td>2.477800</td>\n",
       "    </tr>\n",
       "  </tbody>\n",
       "</table>\n",
       "</div>"
      ],
      "text/plain": [
       "      year/country ISO Code  Year  Urban_Population      Tax%\n",
       "0  Afghanistan2003      AFG  2003            22.353  0.165953\n",
       "1  Afghanistan2004      AFG  2004            22.500  0.411647\n",
       "2  Afghanistan2005      AFG  2005            22.703  0.320864\n",
       "3  Afghanistan2006      AFG  2006            22.907  1.261181\n",
       "4  Afghanistan2007      AFG  2007            23.113  1.323461\n",
       "5  Afghanistan2008      AFG  2008            23.320  1.664719\n",
       "6  Afghanistan2009      AFG  2009            23.528  2.608631\n",
       "7  Afghanistan2010      AFG  2010            23.737  2.563413\n",
       "8  Afghanistan2011      AFG  2011            23.948  2.573097\n",
       "9  Afghanistan2012      AFG  2012            24.160  2.477800"
      ]
     },
     "execution_count": 2,
     "metadata": {},
     "output_type": "execute_result"
    }
   ],
   "source": [
    "df=pd.read_csv('int.csv')\n",
    "df.head(10) "
   ]
  },
  {
   "cell_type": "code",
   "execution_count": 3,
   "metadata": {},
   "outputs": [
    {
     "data": {
      "text/html": [
       "<div>\n",
       "<style scoped>\n",
       "    .dataframe tbody tr th:only-of-type {\n",
       "        vertical-align: middle;\n",
       "    }\n",
       "\n",
       "    .dataframe tbody tr th {\n",
       "        vertical-align: top;\n",
       "    }\n",
       "\n",
       "    .dataframe thead th {\n",
       "        text-align: right;\n",
       "    }\n",
       "</style>\n",
       "<table border=\"1\" class=\"dataframe\">\n",
       "  <thead>\n",
       "    <tr style=\"text-align: right;\">\n",
       "      <th></th>\n",
       "      <th>Year</th>\n",
       "      <th>Urban_Population</th>\n",
       "      <th>Tax%</th>\n",
       "    </tr>\n",
       "  </thead>\n",
       "  <tbody>\n",
       "    <tr>\n",
       "      <th>count</th>\n",
       "      <td>4827.000000</td>\n",
       "      <td>4827.000000</td>\n",
       "      <td>4827.000000</td>\n",
       "    </tr>\n",
       "    <tr>\n",
       "      <th>mean</th>\n",
       "      <td>2000.820178</td>\n",
       "      <td>54.389856</td>\n",
       "      <td>6.541745</td>\n",
       "    </tr>\n",
       "    <tr>\n",
       "      <th>std</th>\n",
       "      <td>9.820962</td>\n",
       "      <td>24.246521</td>\n",
       "      <td>4.916074</td>\n",
       "    </tr>\n",
       "    <tr>\n",
       "      <th>min</th>\n",
       "      <td>1980.000000</td>\n",
       "      <td>0.130000</td>\n",
       "      <td>0.000000</td>\n",
       "    </tr>\n",
       "    <tr>\n",
       "      <th>25%</th>\n",
       "      <td>1994.000000</td>\n",
       "      <td>33.818000</td>\n",
       "      <td>2.913485</td>\n",
       "    </tr>\n",
       "    <tr>\n",
       "      <th>50%</th>\n",
       "      <td>2001.000000</td>\n",
       "      <td>54.937000</td>\n",
       "      <td>5.453483</td>\n",
       "    </tr>\n",
       "    <tr>\n",
       "      <th>75%</th>\n",
       "      <td>2009.000000</td>\n",
       "      <td>74.264500</td>\n",
       "      <td>8.963828</td>\n",
       "    </tr>\n",
       "    <tr>\n",
       "      <th>max</th>\n",
       "      <td>2017.000000</td>\n",
       "      <td>100.000000</td>\n",
       "      <td>32.075305</td>\n",
       "    </tr>\n",
       "  </tbody>\n",
       "</table>\n",
       "</div>"
      ],
      "text/plain": [
       "              Year  Urban_Population         Tax%\n",
       "count  4827.000000       4827.000000  4827.000000\n",
       "mean   2000.820178         54.389856     6.541745\n",
       "std       9.820962         24.246521     4.916074\n",
       "min    1980.000000          0.130000     0.000000\n",
       "25%    1994.000000         33.818000     2.913485\n",
       "50%    2001.000000         54.937000     5.453483\n",
       "75%    2009.000000         74.264500     8.963828\n",
       "max    2017.000000        100.000000    32.075305"
      ]
     },
     "execution_count": 3,
     "metadata": {},
     "output_type": "execute_result"
    }
   ],
   "source": [
    "df.describe()"
   ]
  },
  {
   "cell_type": "code",
   "execution_count": 4,
   "metadata": {},
   "outputs": [
    {
     "data": {
      "text/plain": [
       "year/country         object\n",
       "ISO Code             object\n",
       "Year                  int64\n",
       "Urban_Population    float64\n",
       "Tax%                float64\n",
       "dtype: object"
      ]
     },
     "execution_count": 4,
     "metadata": {},
     "output_type": "execute_result"
    }
   ],
   "source": [
    "df.dtypes"
   ]
  },
  {
   "cell_type": "code",
   "execution_count": 5,
   "metadata": {},
   "outputs": [
    {
     "name": "stdout",
     "output_type": "stream",
     "text": [
      "year/country\n",
      "False    4827\n",
      "Name: year/country, dtype: int64\n",
      "\n",
      "ISO Code\n",
      "False    4827\n",
      "Name: ISO Code, dtype: int64\n",
      "\n",
      "Year\n",
      "False    4827\n",
      "Name: Year, dtype: int64\n",
      "\n",
      "Urban_Population\n",
      "False    4827\n",
      "Name: Urban_Population, dtype: int64\n",
      "\n",
      "Tax%\n",
      "False    4827\n",
      "Name: Tax%, dtype: int64\n",
      "\n"
     ]
    }
   ],
   "source": [
    "missing_data=df.isnull()\n",
    "missing_data.head(5)\n",
    "# df.columns \n",
    "for column in missing_data.columns.values.tolist():\n",
    "    print (column)\n",
    "    print (missing_data[column].value_counts())\n",
    "    print(\"\")\n",
    "# There are no null data in my dataset. I am clear to Fly, Maverick, out! "
   ]
  },
  {
   "cell_type": "code",
   "execution_count": 6,
   "metadata": {},
   "outputs": [],
   "source": [
    "# #df['Urban_Population']=df['Urban_Population'].max\n",
    "# df['Tax%']\n",
    "# result = sm.ols(formula=\"Tax%' ~ 'Urban_Population\", data=df).fit()"
   ]
  },
  {
   "cell_type": "code",
   "execution_count": 7,
   "metadata": {},
   "outputs": [
    {
     "name": "stdout",
     "output_type": "stream",
     "text": [
      "                            OLS Regression Results                            \n",
      "==============================================================================\n",
      "Dep. Variable:                   Tax%   R-squared:                       0.188\n",
      "Model:                            OLS   Adj. R-squared:                  0.188\n",
      "Method:                 Least Squares   F-statistic:                     1120.\n",
      "Date:                Sat, 21 Nov 2020   Prob (F-statistic):          5.50e-221\n",
      "Time:                        19:13:04   Log-Likelihood:                -14032.\n",
      "No. Observations:                4827   AIC:                         2.807e+04\n",
      "Df Residuals:                    4825   BIC:                         2.808e+04\n",
      "Df Model:                           1                                         \n",
      "Covariance Type:            nonrobust                                         \n",
      "====================================================================================\n",
      "                       coef    std err          t      P>|t|      [0.025      0.975]\n",
      "------------------------------------------------------------------------------------\n",
      "const                1.7554      0.157     11.210      0.000       1.448       2.062\n",
      "Urban_Population     0.0880      0.003     33.465      0.000       0.083       0.093\n",
      "==============================================================================\n",
      "Omnibus:                      904.327   Durbin-Watson:                   0.122\n",
      "Prob(Omnibus):                  0.000   Jarque-Bera (JB):             2225.854\n",
      "Skew:                           1.036   Prob(JB):                         0.00\n",
      "Kurtosis:                       5.603   Cond. No.                         146.\n",
      "==============================================================================\n",
      "\n",
      "Warnings:\n",
      "[1] Standard Errors assume that the covariance matrix of the errors is correctly specified.\n"
     ]
    }
   ],
   "source": [
    "y=df['Tax%']\n",
    "x=df['Urban_Population']\n",
    "adjustedx=sm.add_constant(x)\n",
    "model = sm.OLS(y,adjustedx)\n",
    "\n",
    "results = model.fit()\n",
    "print(results.summary())"
   ]
  },
  {
   "cell_type": "code",
   "execution_count": 8,
   "metadata": {},
   "outputs": [
    {
     "data": {
      "text/plain": [
       "[<matplotlib.lines.Line2D at 0x7ff4ad3af550>]"
      ]
     },
     "execution_count": 8,
     "metadata": {},
     "output_type": "execute_result"
    },
    {
     "data": {
      "image/png": "[encoded data removed]",
      "text/plain": [
       "<Figure size 432x288 with 1 Axes>"
      ]
     },
     "metadata": {
      "needs_background": "light"
     },
     "output_type": "display_data"
    }
   ],
   "source": [
    "plt.plot(x,y,'o',color='black')"
   ]
  },
  {
   "cell_type": "code",
   "execution_count": 9,
   "metadata": {},
   "outputs": [
    {
     "data": {
      "text/plain": [
       "0       3.722505\n",
       "1       3.735441\n",
       "2       3.753305\n",
       "3       3.771257\n",
       "4       3.789385\n",
       "          ...   \n",
       "4822    4.478160\n",
       "4823    4.512920\n",
       "4824    4.547856\n",
       "4825    4.583056\n",
       "4826    4.618432\n",
       "Length: 4827, dtype: float64"
      ]
     },
     "execution_count": 9,
     "metadata": {},
     "output_type": "execute_result"
    }
   ],
   "source": [
    "results.fittedvalues"
   ]
  },
  {
   "cell_type": "code",
   "execution_count": 12,
   "metadata": {},
   "outputs": [
    {
     "data": {
      "text/plain": [
       "Jarque_beraResult(statistic=2225.8541601175166, pvalue=0.0)"
      ]
     },
     "execution_count": 12,
     "metadata": {},
     "output_type": "execute_result"
    }
   ],
   "source": [
    "# name = ['Jarque-Bera', 'Chi^2 two-tail prob.', 'Skew', 'Kurtosis']\n",
    "jb = stats.jarque_bera(results.resid)\n",
    "jb"
   ]
  },
  {
   "cell_type": "code",
   "execution_count": 22,
   "metadata": {},
   "outputs": [
    {
     "data": {
      "text/plain": [
       "0      -3.556552\n",
       "1      -3.323794\n",
       "2      -3.432441\n",
       "3      -2.510076\n",
       "4      -2.465924\n",
       "          ...   \n",
       "4822    7.913840\n",
       "4823    6.400425\n",
       "4824    6.158313\n",
       "4825    5.786103\n",
       "4826    8.097043\n",
       "Name: Tax%, Length: 4827, dtype: float64"
      ]
     },
     "execution_count": 22,
     "metadata": {},
     "output_type": "execute_result"
    }
   ],
   "source": [
    "residuals = y-results.predict()\n",
    "residuals"
   ]
  },
  {
   "cell_type": "code",
   "execution_count": 24,
   "metadata": {},
   "outputs": [
    {
     "data": {
      "text/plain": [
       "<matplotlib.collections.PathCollection at 0x7ff4ad5f9ac0>"
      ]
     },
     "execution_count": 24,
     "metadata": {},
     "output_type": "execute_result"
    },
    {
     "data": {
      "image/png": "[encoded data removed]",
      "text/plain": [
       "<Figure size 432x288 with 1 Axes>"
      ]
     },
     "metadata": {
      "needs_background": "light"
     },
     "output_type": "display_data"
    }
   ],
   "source": [
    "plt.scatter(x,residuals)"
   ]
  },
  {
   "cell_type": "code",
   "execution_count": null,
   "metadata": {},
   "outputs": [],
   "source": []
  }
 ],
 "metadata": {
  "kernelspec": {
   "display_name": "Python 3",
   "language": "python",
   "name": "python3"
  },
  "language_info": {
   "codemirror_mode": {
    "name": "ipython",
    "version": 3
   },
   "file_extension": ".py",
   "mimetype": "text/x-python",
   "name": "python",
   "nbconvert_exporter": "python",
   "pygments_lexer": "ipython3",
   "version": "3.8.3"
  }
 },
 "nbformat": 4,
 "nbformat_minor": 4
}
